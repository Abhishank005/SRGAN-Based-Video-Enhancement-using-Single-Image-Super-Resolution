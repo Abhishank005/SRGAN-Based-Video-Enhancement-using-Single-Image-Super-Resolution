{
  "nbformat": 4,
  "nbformat_minor": 0,
  "metadata": {
    "colab": {
      "name": "SRGAN.ipynb",
      "provenance": [],
      "collapsed_sections": []
    },
    "kernelspec": {
      "name": "python3",
      "display_name": "Python 3"
    },
    "accelerator": "GPU"
  },
  "cells": [
    {
      "cell_type": "code",
      "metadata": {
        "id": "8A1wjeU8t_lI",
        "colab_type": "code",
        "colab": {
          "base_uri": "https://localhost:8080/",
          "height": 105
        },
        "outputId": "667ca559-2e60-4c66-f58a-bbfb340f57db"
      },
      "source": [
        "!git clone https://github.com/krasserm/super-resolution   #Cloning a Pretrained Model"
      ],
      "execution_count": 2,
      "outputs": [
        {
          "output_type": "stream",
          "text": [
            "Cloning into 'super-resolution'...\n",
            "remote: Enumerating objects: 385, done.\u001b[K\n",
            "remote: Total 385 (delta 0), reused 0 (delta 0), pack-reused 385\u001b[K\n",
            "Receiving objects: 100% (385/385), 47.38 MiB | 8.75 MiB/s, done.\n",
            "Resolving deltas: 100% (200/200), done.\n"
          ],
          "name": "stdout"
        }
      ]
    },
    {
      "cell_type": "code",
      "metadata": {
        "id": "qlrrTdrQuJq4",
        "colab_type": "code",
        "colab": {
          "base_uri": "https://localhost:8080/",
          "height": 34
        },
        "outputId": "7463366a-18fc-4905-8a0b-f6cb5ad15f9f"
      },
      "source": [
        "cd /content/super-resolution #Creation of Directory"
      ],
      "execution_count": 3,
      "outputs": [
        {
          "output_type": "stream",
          "text": [
            "/content/super-resolution\n"
          ],
          "name": "stdout"
        }
      ]
    },
    {
      "cell_type": "code",
      "metadata": {
        "id": "vLF35wOCuX5a",
        "colab_type": "code",
        "colab": {
          "base_uri": "https://localhost:8080/",
          "height": 70
        },
        "outputId": "b0e54e4e-8f6b-4645-b91f-ff7f00404085"
      },
      "source": [
        "!tar xvfz /content/weights-srgan.tar.gz #Loading weights"
      ],
      "execution_count": 4,
      "outputs": [
        {
          "output_type": "stream",
          "text": [
            "weights/srgan/gan_discriminator.h5\n",
            "weights/srgan/gan_generator.h5\n",
            "weights/srgan/pre_generator.h5\n"
          ],
          "name": "stdout"
        }
      ]
    },
    {
      "cell_type": "markdown",
      "metadata": {
        "id": "DBLk0lNyLXlD",
        "colab_type": "text"
      },
      "source": [
        "# **SRGAN Model Implementation :-**\n",
        "\n",
        "---\n",
        "\n",
        "\n",
        "\n",
        "---\n",
        "\n"
      ]
    },
    {
      "cell_type": "code",
      "metadata": {
        "id": "mkBU5g7C42BB",
        "colab_type": "code",
        "colab": {
          "base_uri": "https://localhost:8080/",
          "height": 1000
        },
        "outputId": "cbd36a78-e834-44ae-809d-3b6ca3584145"
      },
      "source": [
        "# Importing all necessary libraries \n",
        "import timeit\n",
        "import cv2 \n",
        "import os\n",
        "import numpy as np\n",
        "from model import resolve_single\n",
        "from utils import load_image, plot_sample\n",
        "from model.srgan import generator\n",
        "\n",
        "# Read the video from specified path \n",
        "cam = cv2.VideoCapture(\"/content/Drama144p_input.3gp\") \n",
        "fps = cam.get(cv2.CAP_PROP_FPS)\n",
        "print(fps)\n",
        "\n",
        "\n",
        "try:\n",
        "      \n",
        "    # Creating a folder named data \n",
        "    if not os.path.exists('data'): \n",
        "        os.makedirs('data') \n",
        "  \n",
        "# if not created then raise error \n",
        "except OSError:\n",
        "    print ('Error: Creating directory of data') \n",
        "  \n",
        "#frames Extraction from video \n",
        "currentframe = 0\n",
        "arr_img = []\n",
        "while(True): \n",
        "      \n",
        "    # reading from frame \n",
        "    ret,frame = cam.read() \n",
        "  \n",
        "    if ret: \n",
        "        # if video is still left continue creating images \n",
        "        name = './data/frame' + str(currentframe).zfill(3) + '.jpg'\n",
        "        print ('Creating...' + name) \n",
        "  \n",
        "        # writing the extracted images \n",
        "        cv2.imwrite(name, frame) \n",
        "  \n",
        "        # increasing counter so that it will show how many frames are created \n",
        "        currentframe += 1\n",
        "        #storing the path of extracted frames in a list\n",
        "        arr_img.append(name)\n",
        "    else: \n",
        "        break\n",
        "#print(arr_img)\n",
        "\n",
        "start = timeit.default_timer()\n",
        "model = generator()\n",
        "model.load_weights('weights/srgan/gan_generator.h5')\n",
        "\n",
        "#Initialization of an empty list to store the super resolved images\n",
        "arr_output=[]\n",
        "print(len(arr_img))\n",
        "n= len(arr_img)\n",
        "\n",
        "#Implementation of SRGAN Model in extracted frames\n",
        "for i in range(n):\n",
        "  lr = load_image(arr_img[i])\n",
        "  sr = resolve_single(model, lr)\n",
        "  #plot_sample(lr, sr)\n",
        "  \n",
        "  arr_output.append(sr)\n",
        "stop = timeit.default_timer()\n",
        "#print(arr_output)\n",
        "\n",
        "print(\"time : \", stop-start)\n",
        "\n",
        "# Release all space and windows once done \n",
        "cam.release() \n",
        "cv2.destroyAllWindows()"
      ],
      "execution_count": 8,
      "outputs": [
        {
          "output_type": "stream",
          "text": [
            "20.0\n",
            "Creating..../data/frame000.jpg\n",
            "Creating..../data/frame001.jpg\n",
            "Creating..../data/frame002.jpg\n",
            "Creating..../data/frame003.jpg\n",
            "Creating..../data/frame004.jpg\n",
            "Creating..../data/frame005.jpg\n",
            "Creating..../data/frame006.jpg\n",
            "Creating..../data/frame007.jpg\n",
            "Creating..../data/frame008.jpg\n",
            "Creating..../data/frame009.jpg\n",
            "Creating..../data/frame010.jpg\n",
            "Creating..../data/frame011.jpg\n",
            "Creating..../data/frame012.jpg\n",
            "Creating..../data/frame013.jpg\n",
            "Creating..../data/frame014.jpg\n",
            "Creating..../data/frame015.jpg\n",
            "Creating..../data/frame016.jpg\n",
            "Creating..../data/frame017.jpg\n",
            "Creating..../data/frame018.jpg\n",
            "Creating..../data/frame019.jpg\n",
            "Creating..../data/frame020.jpg\n",
            "Creating..../data/frame021.jpg\n",
            "Creating..../data/frame022.jpg\n",
            "Creating..../data/frame023.jpg\n",
            "Creating..../data/frame024.jpg\n",
            "Creating..../data/frame025.jpg\n",
            "Creating..../data/frame026.jpg\n",
            "Creating..../data/frame027.jpg\n",
            "Creating..../data/frame028.jpg\n",
            "Creating..../data/frame029.jpg\n",
            "Creating..../data/frame030.jpg\n",
            "Creating..../data/frame031.jpg\n",
            "Creating..../data/frame032.jpg\n",
            "Creating..../data/frame033.jpg\n",
            "Creating..../data/frame034.jpg\n",
            "Creating..../data/frame035.jpg\n",
            "Creating..../data/frame036.jpg\n",
            "Creating..../data/frame037.jpg\n",
            "Creating..../data/frame038.jpg\n",
            "Creating..../data/frame039.jpg\n",
            "Creating..../data/frame040.jpg\n",
            "Creating..../data/frame041.jpg\n",
            "Creating..../data/frame042.jpg\n",
            "Creating..../data/frame043.jpg\n",
            "Creating..../data/frame044.jpg\n",
            "Creating..../data/frame045.jpg\n",
            "Creating..../data/frame046.jpg\n",
            "Creating..../data/frame047.jpg\n",
            "Creating..../data/frame048.jpg\n",
            "Creating..../data/frame049.jpg\n",
            "Creating..../data/frame050.jpg\n",
            "Creating..../data/frame051.jpg\n",
            "Creating..../data/frame052.jpg\n",
            "Creating..../data/frame053.jpg\n",
            "Creating..../data/frame054.jpg\n",
            "Creating..../data/frame055.jpg\n",
            "Creating..../data/frame056.jpg\n",
            "Creating..../data/frame057.jpg\n",
            "Creating..../data/frame058.jpg\n",
            "Creating..../data/frame059.jpg\n",
            "Creating..../data/frame060.jpg\n",
            "Creating..../data/frame061.jpg\n",
            "Creating..../data/frame062.jpg\n",
            "Creating..../data/frame063.jpg\n",
            "Creating..../data/frame064.jpg\n",
            "Creating..../data/frame065.jpg\n",
            "Creating..../data/frame066.jpg\n",
            "Creating..../data/frame067.jpg\n",
            "Creating..../data/frame068.jpg\n",
            "Creating..../data/frame069.jpg\n",
            "Creating..../data/frame070.jpg\n",
            "Creating..../data/frame071.jpg\n",
            "Creating..../data/frame072.jpg\n",
            "Creating..../data/frame073.jpg\n",
            "Creating..../data/frame074.jpg\n",
            "Creating..../data/frame075.jpg\n",
            "Creating..../data/frame076.jpg\n",
            "Creating..../data/frame077.jpg\n",
            "Creating..../data/frame078.jpg\n",
            "Creating..../data/frame079.jpg\n",
            "Creating..../data/frame080.jpg\n",
            "Creating..../data/frame081.jpg\n",
            "Creating..../data/frame082.jpg\n",
            "Creating..../data/frame083.jpg\n",
            "Creating..../data/frame084.jpg\n",
            "Creating..../data/frame085.jpg\n",
            "Creating..../data/frame086.jpg\n",
            "Creating..../data/frame087.jpg\n",
            "Creating..../data/frame088.jpg\n",
            "Creating..../data/frame089.jpg\n",
            "Creating..../data/frame090.jpg\n",
            "Creating..../data/frame091.jpg\n",
            "Creating..../data/frame092.jpg\n",
            "Creating..../data/frame093.jpg\n",
            "Creating..../data/frame094.jpg\n",
            "Creating..../data/frame095.jpg\n",
            "Creating..../data/frame096.jpg\n",
            "Creating..../data/frame097.jpg\n",
            "Creating..../data/frame098.jpg\n",
            "Creating..../data/frame099.jpg\n",
            "Creating..../data/frame100.jpg\n",
            "Creating..../data/frame101.jpg\n",
            "Creating..../data/frame102.jpg\n",
            "Creating..../data/frame103.jpg\n",
            "Creating..../data/frame104.jpg\n",
            "Creating..../data/frame105.jpg\n",
            "Creating..../data/frame106.jpg\n",
            "Creating..../data/frame107.jpg\n",
            "Creating..../data/frame108.jpg\n",
            "Creating..../data/frame109.jpg\n",
            "Creating..../data/frame110.jpg\n",
            "Creating..../data/frame111.jpg\n",
            "Creating..../data/frame112.jpg\n",
            "Creating..../data/frame113.jpg\n",
            "Creating..../data/frame114.jpg\n",
            "Creating..../data/frame115.jpg\n",
            "Creating..../data/frame116.jpg\n",
            "Creating..../data/frame117.jpg\n",
            "Creating..../data/frame118.jpg\n",
            "Creating..../data/frame119.jpg\n",
            "Creating..../data/frame120.jpg\n",
            "Creating..../data/frame121.jpg\n",
            "Creating..../data/frame122.jpg\n",
            "Creating..../data/frame123.jpg\n",
            "Creating..../data/frame124.jpg\n",
            "Creating..../data/frame125.jpg\n",
            "Creating..../data/frame126.jpg\n",
            "Creating..../data/frame127.jpg\n",
            "Creating..../data/frame128.jpg\n",
            "Creating..../data/frame129.jpg\n",
            "Creating..../data/frame130.jpg\n",
            "Creating..../data/frame131.jpg\n",
            "Creating..../data/frame132.jpg\n",
            "Creating..../data/frame133.jpg\n",
            "Creating..../data/frame134.jpg\n",
            "Creating..../data/frame135.jpg\n",
            "Creating..../data/frame136.jpg\n",
            "Creating..../data/frame137.jpg\n",
            "Creating..../data/frame138.jpg\n",
            "Creating..../data/frame139.jpg\n",
            "Creating..../data/frame140.jpg\n",
            "Creating..../data/frame141.jpg\n",
            "Creating..../data/frame142.jpg\n",
            "Creating..../data/frame143.jpg\n",
            "Creating..../data/frame144.jpg\n",
            "Creating..../data/frame145.jpg\n",
            "Creating..../data/frame146.jpg\n",
            "Creating..../data/frame147.jpg\n",
            "Creating..../data/frame148.jpg\n",
            "Creating..../data/frame149.jpg\n",
            "Creating..../data/frame150.jpg\n",
            "Creating..../data/frame151.jpg\n",
            "Creating..../data/frame152.jpg\n",
            "Creating..../data/frame153.jpg\n",
            "Creating..../data/frame154.jpg\n",
            "Creating..../data/frame155.jpg\n",
            "Creating..../data/frame156.jpg\n",
            "Creating..../data/frame157.jpg\n",
            "Creating..../data/frame158.jpg\n",
            "Creating..../data/frame159.jpg\n",
            "Creating..../data/frame160.jpg\n",
            "161\n",
            "time :  21.333814638999684\n"
          ],
          "name": "stdout"
        }
      ]
    },
    {
      "cell_type": "markdown",
      "metadata": {
        "id": "62ZtxImOJled",
        "colab_type": "text"
      },
      "source": [
        "# **Saving the Super Resolved Frames :-**\n",
        "The super resolved frames are in numpy array format, so here we will change them in an image format."
      ]
    },
    {
      "cell_type": "code",
      "metadata": {
        "id": "ZHFzAIHUk9N2",
        "colab_type": "code",
        "colab": {}
      },
      "source": [
        "#Importing necessary libraries\n",
        "from keras.preprocessing.image import load_img\n",
        "from keras.preprocessing.image import img_to_array\n",
        "from keras.preprocessing.image import array_to_img\n",
        "from keras.preprocessing.image import save_img\n",
        "\n",
        "#Making a directory for storing super resolved frames in image format\n",
        "os.makedirs(\"output_images\")\n",
        "\n",
        "#Initialization of an empty list to store the path of Super resolved frames\n",
        "s_res= []\n",
        "for j in range(len(arr_output)):\n",
        "  out_name = '/content/super-resolution/output_images/frame' + str(j).zfill(3) + '.jpg'\n",
        "  img_pil = array_to_img(arr_output[j])\n",
        "  img1 = save_img(out_name, img_pil)\n",
        "  s_res.append(out_name)\n",
        "  \n",
        "#print(s_res)"
      ],
      "execution_count": 11,
      "outputs": []
    },
    {
      "cell_type": "markdown",
      "metadata": {
        "id": "rAf8BC72W_Yo",
        "colab_type": "text"
      },
      "source": [
        "# **Conversion of Super Resolved frames into a video**"
      ]
    },
    {
      "cell_type": "code",
      "metadata": {
        "id": "nIf9j6qJHU_y",
        "colab_type": "code",
        "colab": {}
      },
      "source": [
        "import cv2\n",
        "import numpy as np\n",
        "for i in range(len(s_res)):\n",
        "    filename=s_res[i]\n",
        "    #reading each files\n",
        "    img = cv2.imread(filename)\n",
        "    height, width, layers = img.shape\n",
        "    size = (width,height)\n",
        "\n",
        "fps = 20       #Put the fps value as your convenience or \n",
        "               #Calculate by using (No. of frames)/Video_duration in seconds  \n",
        "\n",
        "#Creation of output video               \n",
        "out = cv2.VideoWriter('drama2_output.mp4',cv2.VideoWriter_fourcc(*'DIVX'), fps , size)\n",
        "\n",
        "#Writing Frames into video\n",
        "for i in range(len(s_res)):\n",
        "    out.write(cv2.imread(s_res[i]))\n",
        "out.release()"
      ],
      "execution_count": 23,
      "outputs": []
    }
  ]
}